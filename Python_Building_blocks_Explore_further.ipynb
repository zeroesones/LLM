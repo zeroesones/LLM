{
  "nbformat": 4,
  "nbformat_minor": 0,
  "metadata": {
    "colab": {
      "provenance": []
    },
    "kernelspec": {
      "name": "python3",
      "display_name": "Python 3"
    },
    "language_info": {
      "name": "python"
    }
  },
  "cells": [
    {
      "cell_type": "code",
      "execution_count": null,
      "metadata": {
        "id": "tH6tKkT2VEmJ"
      },
      "outputs": [],
      "source": []
    },
    {
      "cell_type": "markdown",
      "source": [
        "### Print"
      ],
      "metadata": {
        "id": "jK3M9EF9VGlf"
      }
    },
    {
      "cell_type": "code",
      "source": [
        "import sys\n",
        "import time\n",
        "\n",
        "# Print multiple values with custom separator\n",
        "print(\"Python\", \"is\", \"fun\", sep=\" 🐍 \")\n",
        "\n",
        "# Print without automatic newline\n",
        "print(\"Loading\", end=\"... \")\n",
        "time.sleep(1)\n",
        "print(\"done!\")\n",
        "\n",
        "# Print with file redirection\n",
        "with open(\"log.txt\", \"w\") as f:\n",
        "    print(\"This line goes into a file, not console!\", file=f)\n",
        "\n",
        "# Print with immediate flush (useful for real-time logs/progress bars)\n",
        "for i in range(3):\n",
        "    print(f\"Step {i+1}\", end=\" \", flush=True)\n",
        "    time.sleep(0.5)\n"
      ],
      "metadata": {
        "id": "xlOQadsDVIc3"
      },
      "execution_count": null,
      "outputs": []
    },
    {
      "cell_type": "markdown",
      "source": [
        "sep=\" 🐍 \" → joins multiple arguments with a custom separator.\n",
        "\n",
        "end=\"... \" → replaces the default newline (\\n) with a custom string.\n",
        "\n",
        "file=f → sends output to a file instead of console.\n",
        "\n",
        "flush=True → forces output to appear immediately (important in logs, progress bars)."
      ],
      "metadata": {
        "id": "oA2JqxwGWAc4"
      }
    },
    {
      "cell_type": "code",
      "source": [],
      "metadata": {
        "id": "9gaF7aUEVJFZ"
      },
      "execution_count": null,
      "outputs": []
    },
    {
      "cell_type": "markdown",
      "source": [
        "Membership and Identity"
      ],
      "metadata": {
        "id": "PYNZPVx-WuYr"
      }
    },
    {
      "cell_type": "code",
      "source": [
        "a = [1, 2, 3]\n",
        "b = a\n",
        "c = [1, 2, 3]\n",
        "\n",
        "print(a is b)      # True  (b points to the same object as a)\n",
        "print(a is c)      # False (c has the same values, but it’s a different object in memory)\n",
        "print(a == c)      # True  (values are the same even if identity is different)\n"
      ],
      "metadata": {
        "id": "pmVly49fWyPp"
      },
      "execution_count": null,
      "outputs": []
    },
    {
      "cell_type": "markdown",
      "source": [
        "Use membership (in, not in) when checking if something exists in a sequence.\n",
        "\n",
        "Use identity (is, is not) when checking if two variables point to the same object in memory."
      ],
      "metadata": {
        "id": "0Kv4YE70W3bO"
      }
    },
    {
      "cell_type": "markdown",
      "source": [
        "## List"
      ],
      "metadata": {
        "id": "sRtFVpUHdN1t"
      }
    },
    {
      "cell_type": "code",
      "source": [
        "# List of student scores\n",
        "scores = [78, 85, 92, 67, 88, 92, 70]\n",
        "\n",
        "# Add a new score\n",
        "scores.append(95)\n",
        "\n",
        "# Sort scores (ascending)\n",
        "scores.sort()\n",
        "\n",
        "# Remove duplicates by converting to set and back to list\n",
        "unique_scores = list(set(scores))\n",
        "\n",
        "print(\"All scores:\", scores)\n",
        "print(\"Unique scores:\", unique_scores)\n",
        "print(\"Top 3 scores:\", scores[-3:])\n"
      ],
      "metadata": {
        "id": "seUqnyErWwwg"
      },
      "execution_count": null,
      "outputs": []
    },
    {
      "cell_type": "markdown",
      "source": [
        "## Set"
      ],
      "metadata": {
        "id": "p4-8K2I2dVuf"
      }
    },
    {
      "cell_type": "code",
      "source": [
        "# Interests of two people\n",
        "alice_interests = {\"reading\", \"traveling\", \"coding\", \"music\"}\n",
        "bob_interests   = {\"sports\", \"music\", \"coding\", \"movies\"}\n",
        "\n",
        "# Find common interests\n",
        "common = alice_interests & bob_interests\n",
        "\n",
        "# Find unique to Alice\n",
        "unique_alice = alice_interests - bob_interests\n",
        "\n",
        "print(\"Common Interests:\", common)\n",
        "print(\"Unique to Alice:\", unique_alice)\n",
        "print(\"All Interests:\", alice_interests | bob_interests)\n"
      ],
      "metadata": {
        "id": "L5cFIYrkdYxp"
      },
      "execution_count": null,
      "outputs": []
    },
    {
      "cell_type": "markdown",
      "source": [
        "## Tuple"
      ],
      "metadata": {
        "id": "ViepzkEVdfLx"
      }
    },
    {
      "cell_type": "code",
      "source": [
        "# Coordinates of cities (latitude, longitude)\n",
        "city_coordinates = (\n",
        "    (\"New York\", (40.7128, -74.0060)),\n",
        "    (\"London\", (51.5074, -0.1278)),\n",
        "    (\"Tokyo\", (35.6895, 139.6917))\n",
        ")\n",
        "\n",
        "# Accessing values\n",
        "for city, coord in city_coordinates:\n",
        "    print(f\"{city} is at latitude {coord[0]} and longitude {coord[1]}\")\n"
      ],
      "metadata": {
        "colab": {
          "base_uri": "https://localhost:8080/"
        },
        "id": "MR1HhujDdhiQ",
        "outputId": "0d279dd5-3529-4571-c501-353e388150cb"
      },
      "execution_count": 1,
      "outputs": [
        {
          "output_type": "stream",
          "name": "stdout",
          "text": [
            "New York is at latitude 40.7128 and longitude -74.006\n",
            "London is at latitude 51.5074 and longitude -0.1278\n",
            "Tokyo is at latitude 35.6895 and longitude 139.6917\n"
          ]
        }
      ]
    },
    {
      "cell_type": "markdown",
      "source": [
        "## Dict"
      ],
      "metadata": {
        "id": "UAuK39T-daRf"
      }
    },
    {
      "cell_type": "code",
      "source": [
        "# Employee database\n",
        "employees = {\n",
        "    101: {\"name\": \"Alice\", \"role\": \"Engineer\", \"salary\": 70000},\n",
        "    102: {\"name\": \"Bob\", \"role\": \"Manager\", \"salary\": 85000},\n",
        "    103: {\"name\": \"Charlie\", \"role\": \"Analyst\", \"salary\": 65000}\n",
        "}\n",
        "\n",
        "# Add a new employee\n",
        "employees[104] = {\"name\": \"Diana\", \"role\": \"Engineer\", \"salary\": 72000}\n",
        "\n",
        "# Update salary\n",
        "employees[101][\"salary\"] += 5000\n",
        "\n",
        "# Find all engineers\n",
        "engineers = [emp[\"name\"] for emp in employees.values() if emp[\"role\"] == \"Engineer\"]\n",
        "\n",
        "print(\"Updated Employee Database:\", employees)\n",
        "print(\"Engineers in the company:\", engineers)\n"
      ],
      "metadata": {
        "colab": {
          "base_uri": "https://localhost:8080/"
        },
        "id": "9mpZkH2Fdwn-",
        "outputId": "a8e79081-1749-4cc3-81fb-d395d46caa46"
      },
      "execution_count": 2,
      "outputs": [
        {
          "output_type": "stream",
          "name": "stdout",
          "text": [
            "Updated Employee Database: {101: {'name': 'Alice', 'role': 'Engineer', 'salary': 75000}, 102: {'name': 'Bob', 'role': 'Manager', 'salary': 85000}, 103: {'name': 'Charlie', 'role': 'Analyst', 'salary': 65000}, 104: {'name': 'Diana', 'role': 'Engineer', 'salary': 72000}}\n",
            "Engineers in the company: ['Alice', 'Diana']\n"
          ]
        }
      ]
    },
    {
      "cell_type": "markdown",
      "source": [
        "# Assignment"
      ],
      "metadata": {
        "id": "zonPlQkGfaAA"
      }
    },
    {
      "cell_type": "markdown",
      "source": [
        "### Problem Statement\n",
        "\n",
        "Design a Python-based Mini Social Media Management System using the core data structures: List, Set, Tuple, and Dictionary. Each must represent real-world social media data.\n",
        "\n",
        "\n",
        "### Requirements & Expectations\n",
        "\n",
        "#### List – Manage a user’s posts (likes count or captions).\n",
        "\n",
        "Add new posts.\n",
        "\n",
        "Sort posts by likes to find the top 3 most liked posts.\n",
        "\n",
        "\n",
        "#### Set – Represent a user’s unique followers.\n",
        "\n",
        "Find mutual followers between two users.\n",
        "\n",
        "Find followers unique to one user.\n",
        "\n",
        "\n",
        "#### Tuple – Store profile information (username, join date, country).\n",
        "\n",
        "Immutable once defined.\n",
        "\n",
        "Print profile details in a readable format.\n",
        "\n",
        "\n",
        "#### Dictionary – Store the user database.\n",
        "\n",
        "Each user ID maps to a profile:\n",
        "\n",
        "{\n",
        "  \"name\": str,\n",
        "  \"followers\": set,\n",
        "  \"posts\": list,\n",
        "  \"profile\": tuple\n",
        "}\n",
        "\n",
        "\n",
        "\n",
        "##### Functions:\n",
        "\n",
        "Add a new user.\n",
        "\n",
        "Update posts (add likes or captions).\n",
        "\n",
        "Find all users with a given mutual follower.\n"
      ],
      "metadata": {
        "id": "vz3B7q2QfcXD"
      }
    },
    {
      "cell_type": "code",
      "source": [],
      "metadata": {
        "id": "10XDRznzdskc"
      },
      "execution_count": null,
      "outputs": []
    }
  ]
}