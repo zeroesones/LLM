{
 "cells": [
  {
   "cell_type": "markdown",
   "id": "3b1d6cd2",
   "metadata": {},
   "source": [
    "# Python Function Scenarios: Think & Understand\n",
    "*Prepared on September 11, 2025*\n",
    "\n",
    "This notebook contains **10 thought-provoking Python Q&A**. Each section includes a code snippet for you to predict the output before running it, followed by an explanation.\n",
    "\n",
    "👉 Try to reason first, then execute the code."
   ]
  },
  {
   "cell_type": "markdown",
   "id": "14b74526",
   "metadata": {},
   "source": [
    "## 1. Function Defaults\n",
    "**Q:** What will be printed? Why?"
   ]
  },
  {
   "cell_type": "code",
   "execution_count": null,
   "id": "525d2a3d",
   "metadata": {},
   "outputs": [],
   "source": [
    "def greet(name=\"Guest\"):\n",
    "    return f\"Hello, {name}!\"\n",
    "\n",
    "print(greet())      # Predict first\n",
    "print(greet(\"Alice\"))\n"
   ]
  },
  {
   "cell_type": "markdown",
   "id": "334d10f9",
   "metadata": {},
   "source": [
    "**Answer:**\n",
    "- `Hello, Guest!`\n",
    "- `Hello, Alice!`\n",
    "\n",
    "Default arguments provide fallback values."
   ]
  },
  {
   "cell_type": "markdown",
   "id": "cc4ccf49",
   "metadata": {},
   "source": [
    "## 2. Mutable Defaults\n",
    "**Q:** What happens here?"
   ]
  },
  {
   "cell_type": "code",
   "execution_count": null,
   "id": "1516d3b9",
   "metadata": {},
   "outputs": [],
   "source": [
    "def add_item(item, bucket=[]):\n",
    "    bucket.append(item)\n",
    "    return bucket\n",
    "\n",
    "print(add_item(\"apple\"))\n",
    "print(add_item(\"banana\"))\n"
   ]
  },
  {
   "cell_type": "markdown",
   "id": "20ceefea",
   "metadata": {},
   "source": [
    "**Answer:** The list persists across calls → `['apple']`, then `['apple', 'banana']`. Default mutable arguments are created once, not each call."
   ]
  },
  {
   "cell_type": "markdown",
   "id": "69c52591",
   "metadata": {},
   "source": [
    "## 3. Scope Rules\n",
    "**Q:** Predict the output."
   ]
  },
  {
   "cell_type": "code",
   "execution_count": null,
   "id": "899f2ae3",
   "metadata": {},
   "outputs": [],
   "source": [
    "x = 10\n",
    "def foo():\n",
    "    x = 20\n",
    "    print(\"Inside:\", x)\n",
    "\n",
    "foo()\n",
    "print(\"Outside:\", x)\n"
   ]
  },
  {
   "cell_type": "markdown",
   "id": "f86fda77",
   "metadata": {},
   "source": [
    "**Answer:** Inside → 20, Outside → 10. Local shadows global. Python follows **LEGB rule**."
   ]
  },
  {
   "cell_type": "markdown",
   "id": "ab38e3e2",
   "metadata": {},
   "source": [
    "## 4. Nonlocal Keyword\n",
    "**Q:** What happens here?"
   ]
  },
  {
   "cell_type": "code",
   "execution_count": null,
   "id": "b91ad385",
   "metadata": {},
   "outputs": [],
   "source": [
    "def outer():\n",
    "    x = \"outer\"\n",
    "    def inner():\n",
    "        nonlocal x\n",
    "        x = \"inner\"\n",
    "    inner()\n",
    "    return x\n",
    "\n",
    "print(outer())\n"
   ]
  },
  {
   "cell_type": "markdown",
   "id": "077b61f5",
   "metadata": {},
   "source": [
    "**Answer:** Prints `'inner'`. `nonlocal` modifies enclosing scope variables."
   ]
  },
  {
   "cell_type": "markdown",
   "id": "26bf7f4a",
   "metadata": {},
   "source": [
    "## 5. Variable-Length Arguments\n",
    "**Q:** What is returned?"
   ]
  },
  {
   "cell_type": "code",
   "execution_count": null,
   "id": "7f3e560d",
   "metadata": {},
   "outputs": [],
   "source": [
    "def concat(*args, sep=\"-\"):\n",
    "    return sep.join(args)\n",
    "\n",
    "print(concat(\"2025\", \"09\", \"12\"))\n",
    "print(concat(\"A\", \"B\", \"C\", sep=\"|\"))\n"
   ]
  },
  {
   "cell_type": "markdown",
   "id": "fe313f29",
   "metadata": {},
   "source": [
    "**Answer:** `2025-09-12` and `A|B|C`. `*args` collects arguments, `sep` customizes behavior."
   ]
  },
  {
   "cell_type": "markdown",
   "id": "cc3a5fc2",
   "metadata": {},
   "source": [
    "## 6. First-Class Functions\n",
    "**Q:** What’s the output?"
   ]
  },
  {
   "cell_type": "code",
   "execution_count": null,
   "id": "de1f0d77",
   "metadata": {},
   "outputs": [],
   "source": [
    "def square(x): return x*x\n",
    "def operate(func, val): return func(val)\n",
    "\n",
    "print(operate(square, 5))\n"
   ]
  },
  {
   "cell_type": "markdown",
   "id": "1b154ced",
   "metadata": {},
   "source": [
    "**Answer:** Prints 25. Functions are first-class citizens."
   ]
  },
  {
   "cell_type": "markdown",
   "id": "85ee44c1",
   "metadata": {},
   "source": [
    "## 7. Closures\n",
    "**Q:** What happens?"
   ]
  },
  {
   "cell_type": "code",
   "execution_count": null,
   "id": "77bf41a0",
   "metadata": {},
   "outputs": [],
   "source": [
    "def make_multiplier(factor):\n",
    "    def multiply(x):\n",
    "        return x * factor\n",
    "    return multiply\n",
    "\n",
    "times3 = make_multiplier(3)\n",
    "print(times3(10))\n"
   ]
  },
  {
   "cell_type": "markdown",
   "id": "891776aa",
   "metadata": {},
   "source": [
    "**Answer:** Prints 30. Closure remembers factor=3 after function ends."
   ]
  },
  {
   "cell_type": "markdown",
   "id": "0ae0bc41",
   "metadata": {},
   "source": [
    "## 8. Recursion\n",
    "**Q:** What will this print?"
   ]
  },
  {
   "cell_type": "code",
   "execution_count": null,
   "id": "8902549f",
   "metadata": {},
   "outputs": [],
   "source": [
    "def factorial(n):\n",
    "    if n == 0: return 1\n",
    "    return n * factorial(n-1)\n",
    "\n",
    "print(factorial(4))\n"
   ]
  },
  {
   "cell_type": "markdown",
   "id": "2d8cf01b",
   "metadata": {},
   "source": [
    "**Answer:** 24. Classic recursion with base case."
   ]
  },
  {
   "cell_type": "markdown",
   "id": "bc3dd857",
   "metadata": {},
   "source": [
    "## 9. Keyword-Only Arguments\n",
    "**Q:** Predict the behavior."
   ]
  },
  {
   "cell_type": "code",
   "execution_count": null,
   "id": "72d0ca37",
   "metadata": {},
   "outputs": [],
   "source": [
    "def power(base, *, exp=2):\n",
    "    return base ** exp\n",
    "\n",
    "print(power(3))\n",
    "print(power(2, exp=3))\n",
    "print(power(5, 2))  # What happens?\n"
   ]
  },
  {
   "cell_type": "markdown",
   "id": "0236e1fe",
   "metadata": {},
   "source": [
    "**Answer:**\n",
    "- 9\n",
    "- 8\n",
    "- Error → `TypeError` since `exp` must be keyword-only."
   ]
  },
  {
   "cell_type": "markdown",
   "id": "b6de57f4",
   "metadata": {},
   "source": [
    "## 10. Generators\n",
    "**Q:** What will the loop print?"
   ]
  },
  {
   "cell_type": "code",
   "execution_count": null,
   "id": "0ee38147",
   "metadata": {},
   "outputs": [],
   "source": [
    "def countdown(n):\n",
    "    while n > 0:\n",
    "        yield n\n",
    "        n -= 1\n",
    "\n",
    "for val in countdown(3):\n",
    "    print(val)\n"
   ]
  },
  {
   "cell_type": "markdown",
   "id": "329c180d",
   "metadata": {},
   "source": [
    "**Answer:** Prints 3, 2, 1. `yield` makes it a generator, producing values lazily."
   ]
  }
 ],
 "metadata": {},
 "nbformat": 4,
 "nbformat_minor": 5
}
