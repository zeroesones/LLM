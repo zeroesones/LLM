{
 "cells": [
  {
   "cell_type": "markdown",
   "id": "7849aa86",
   "metadata": {},
   "source": [
    "# Python Collections: Think & Understand\n",
    "*Prepared on September 11, 2025*\n",
    "\n",
    "This notebook explores **lists, sets, tuples, and dicts** through 10 thought-provoking questions.\n",
    "\n",
    "👉 Try to **predict the output first**, then run the code to confirm."
   ]
  },
  {
   "cell_type": "markdown",
   "id": "576bb41f",
   "metadata": {},
   "source": [
    "## 1. List Mutation\n",
    "**Q:** What will be printed?"
   ]
  },
  {
   "cell_type": "code",
   "execution_count": null,
   "id": "4a245f69",
   "metadata": {},
   "outputs": [],
   "source": [
    "nums = [1, 2, 3]\n",
    "alias = nums\n",
    "alias.append(4)\n",
    "print(nums)\n",
    "print(alias)\n"
   ]
  },
  {
   "cell_type": "markdown",
   "id": "baed70c7",
   "metadata": {},
   "source": [
    "**Answer:** Both show `[1, 2, 3, 4]` — lists are mutable, and both names point to the same object."
   ]
  },
  {
   "cell_type": "markdown",
   "id": "3d2c6739",
   "metadata": {},
   "source": [
    "## 2. List Copying\n",
    "**Q:** Spot the difference."
   ]
  },
  {
   "cell_type": "code",
   "execution_count": null,
   "id": "8c5a5f5e",
   "metadata": {},
   "outputs": [],
   "source": [
    "a = [[1, 2], [3, 4]]\n",
    "b = a.copy()\n",
    "b[0].append(99)\n",
    "print(a)\n",
    "print(b)\n"
   ]
  },
  {
   "cell_type": "markdown",
   "id": "1ec0660a",
   "metadata": {},
   "source": [
    "**Answer:** Both show `[[1, 2, 99], [3, 4]]` — `list.copy()` is shallow, so nested objects are shared."
   ]
  },
  {
   "cell_type": "markdown",
   "id": "575f0229",
   "metadata": {},
   "source": [
    "## 3. Set Uniqueness\n",
    "**Q:** What happens here?"
   ]
  },
  {
   "cell_type": "code",
   "execution_count": null,
   "id": "c90b75eb",
   "metadata": {},
   "outputs": [],
   "source": [
    "s = {1, 2, 2, 3, 3, 3}\n",
    "print(s)\n"
   ]
  },
  {
   "cell_type": "markdown",
   "id": "242e5cad",
   "metadata": {},
   "source": [
    "**Answer:** Prints `{1, 2, 3}` — sets automatically remove duplicates."
   ]
  },
  {
   "cell_type": "markdown",
   "id": "0acf3b20",
   "metadata": {},
   "source": [
    "## 4. Set Operations\n",
    "**Q:** What will the output be?"
   ]
  },
  {
   "cell_type": "code",
   "execution_count": null,
   "id": "ecc35f4d",
   "metadata": {},
   "outputs": [],
   "source": [
    "a = {1, 2, 3}\n",
    "b = {3, 4, 5}\n",
    "print(a & b)  # intersection\n",
    "print(a | b)  # union\n",
    "print(a - b)  # difference\n"
   ]
  },
  {
   "cell_type": "markdown",
   "id": "84a4d959",
   "metadata": {},
   "source": [
    "**Answer:** `{3}`, `{1, 2, 3, 4, 5}`, `{1, 2}`. Sets support math-like operations."
   ]
  },
  {
   "cell_type": "markdown",
   "id": "54c44c90",
   "metadata": {},
   "source": [
    "## 5. Tuple Immutability\n",
    "**Q:** Predict the result."
   ]
  },
  {
   "cell_type": "code",
   "execution_count": null,
   "id": "7b74e947",
   "metadata": {},
   "outputs": [],
   "source": [
    "t = (1, 2, 3)\n",
    "t[0] = 99\n"
   ]
  },
  {
   "cell_type": "markdown",
   "id": "34a929af",
   "metadata": {},
   "source": [
    "**Answer:** Raises `TypeError` — tuples are immutable."
   ]
  },
  {
   "cell_type": "markdown",
   "id": "e4d031cf",
   "metadata": {},
   "source": [
    "## 6. Tuple Containing Mutable\n",
    "**Q:** Will this work?"
   ]
  },
  {
   "cell_type": "code",
   "execution_count": null,
   "id": "20a101ba",
   "metadata": {},
   "outputs": [],
   "source": [
    "t = (1, [2, 3])\n",
    "t[1].append(4)\n",
    "print(t)\n"
   ]
  },
  {
   "cell_type": "markdown",
   "id": "f299be4b",
   "metadata": {},
   "source": [
    "**Answer:** Prints `(1, [2, 3, 4])` — tuple is immutable, but its contents (list) can be changed."
   ]
  },
  {
   "cell_type": "markdown",
   "id": "1b36b247",
   "metadata": {},
   "source": [
    "## 7. Dict Keys\n",
    "**Q:** What happens?"
   ]
  },
  {
   "cell_type": "code",
   "execution_count": null,
   "id": "9ef715dd",
   "metadata": {},
   "outputs": [],
   "source": [
    "d = { [1, 2]: \"list\", (1, 2): \"tuple\" }\n"
   ]
  },
  {
   "cell_type": "markdown",
   "id": "9e5b2bd7",
   "metadata": {},
   "source": [
    "**Answer:** Raises `TypeError` — lists are unhashable and cannot be dict keys, but tuples can."
   ]
  },
  {
   "cell_type": "markdown",
   "id": "6dc6b8c1",
   "metadata": {},
   "source": [
    "## 8. Dict Overwriting\n",
    "**Q:** What will be printed?"
   ]
  },
  {
   "cell_type": "code",
   "execution_count": null,
   "id": "d155ae22",
   "metadata": {},
   "outputs": [],
   "source": [
    "d = {\"a\": 1, \"b\": 2, \"a\": 3}\n",
    "print(d)\n"
   ]
  },
  {
   "cell_type": "markdown",
   "id": "ac102c68",
   "metadata": {},
   "source": [
    "**Answer:** `{'a': 3, 'b': 2}` — later assignment overwrites the earlier one."
   ]
  },
  {
   "cell_type": "markdown",
   "id": "d8860cc5",
   "metadata": {},
   "source": [
    "## 9. Dict View Objects\n",
    "**Q:** What happens when we modify the dict?"
   ]
  },
  {
   "cell_type": "code",
   "execution_count": null,
   "id": "4bb083d7",
   "metadata": {},
   "outputs": [],
   "source": [
    "d = {\"x\": 1, \"y\": 2}\n",
    "keys = d.keys()\n",
    "d[\"z\"] = 3\n",
    "print(keys)\n"
   ]
  },
  {
   "cell_type": "markdown",
   "id": "dcad8148",
   "metadata": {},
   "source": [
    "**Answer:** Prints `dict_keys(['x', 'y', 'z'])` — dict views are live and update dynamically."
   ]
  },
  {
   "cell_type": "markdown",
   "id": "ddf89e51",
   "metadata": {},
   "source": [
    "## 10. Nested Collections\n",
    "**Q:** Predict the behavior."
   ]
  },
  {
   "cell_type": "code",
   "execution_count": null,
   "id": "5889c03a",
   "metadata": {},
   "outputs": [],
   "source": [
    "data = {\"fruits\": [\"apple\", \"banana\"]}\n",
    "data[\"fruits\"].append(\"cherry\")\n",
    "print(data)\n"
   ]
  },
  {
   "cell_type": "markdown",
   "id": "f11cbb61",
   "metadata": {},
   "source": [
    "**Answer:** Prints `{'fruits': ['apple', 'banana', 'cherry']}` — dict values can be mutable objects like lists."
   ]
  }
 ],
 "metadata": {},
 "nbformat": 4,
 "nbformat_minor": 5
}
