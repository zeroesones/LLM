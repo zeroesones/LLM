{
  "cells": [
    {
      "cell_type": "markdown",
      "id": "b563bbbd",
      "metadata": {
        "id": "b563bbbd"
      },
      "source": [
        "# Python Essentials: Guided Notebook\n",
        "*Prepared on September 11, 2025*\n"
      ]
    },
    {
      "cell_type": "markdown",
      "id": "fe34fedc",
      "metadata": {
        "id": "fe34fedc"
      },
      "source": [
        "## 1) Building Blocks: Variables & Data Types\n",
        "Variables are names bound to values. Python is **dynamically typed**—types are inferred from values.\n",
        "\n",
        "**Common built-in types**: `int`, `float`, `str`, `bool`, `list`, `tuple`, `set`, `dict`.\n",
        "\n",
        "**Tips**:\n",
        "- Use descriptive names (`total_revenue`, not `tr`).\n",
        "- Prefer snake_case.\n",
        "- Check type with `type(obj)`.\n"
      ]
    },
    {
      "cell_type": "code",
      "execution_count": null,
      "id": "3c728f08",
      "metadata": {
        "id": "3c728f08"
      },
      "outputs": [],
      "source": [
        "# Basic data types\n",
        "age = 30                # int\n",
        "pi = 3.14159            # float\n",
        "name = \"Alice\"          # str\n",
        "is_student = True       # bool\n",
        "colors = [\"red\", \"green\", \"blue\"]  # list\n",
        "\n",
        "print(type(age), type(pi), type(name), type(is_student), type(colors))\n"
      ]
    },
    {
      "cell_type": "markdown",
      "id": "318a4034",
      "metadata": {
        "id": "318a4034"
      },
      "source": [
        "✍️ **Try it**: Create variables `radius=7.5`, `city='Chennai'`, `prime=True`, and print their types."
      ]
    },
    {
      "cell_type": "markdown",
      "id": "4566c677",
      "metadata": {
        "id": "4566c677"
      },
      "source": [
        "## 2) Making Decisions: Conditional Statements (`if`/`elif`/`else`)\n",
        "Use conditionals to branch logic based on truth values."
      ]
    },
    {
      "cell_type": "code",
      "execution_count": null,
      "id": "9d6fd48d",
      "metadata": {
        "id": "9d6fd48d"
      },
      "outputs": [],
      "source": [
        "temperature = 25\n",
        "\n",
        "if temperature > 30:\n",
        "    print(\"It's a hot day!\")\n",
        "elif temperature > 20:\n",
        "    print(\"It's a pleasant day.\")\n",
        "else:\n",
        "    print(\"It's a bit chilly.\")\n"
      ]
    },
    {
      "cell_type": "markdown",
      "id": "f955afba",
      "metadata": {
        "id": "f955afba"
      },
      "source": [
        "**Patterns**:\n",
        "- Combine conditions with `and`, `or`, `not`.\n",
        "- Membership: `x in seq`.\n",
        "- Identity: `x is None`.\n",
        "\n",
        "✍️ **Try it**: Given `score = 84`, print 'A' for score ≥ 85, 'B' for 70–84, else 'C'."
      ]
    },
    {
      "cell_type": "markdown",
      "id": "88698e5e",
      "metadata": {
        "id": "88698e5e"
      },
      "source": [
        "## 3) Repetitive Tasks: Loops\n",
        "**`for` loop** iterates over sequences; **`while` loop** repeats until a condition changes."
      ]
    },
    {
      "cell_type": "code",
      "execution_count": null,
      "id": "d453dc9f",
      "metadata": {
        "id": "d453dc9f"
      },
      "outputs": [],
      "source": [
        "# for: iterate over a sequence\n",
        "fruits = [\"apple\", \"banana\"]\n",
        "for fruit in fruits:\n",
        "    print(fruit)\n",
        "\n",
        "# while: repeat until condition is False\n",
        "count = 0\n",
        "while count < 3:\n",
        "    print(f\"Count: {count}\")\n",
        "    count += 1\n"
      ]
    },
    {
      "cell_type": "markdown",
      "id": "96f10eee",
      "metadata": {
        "id": "96f10eee"
      },
      "source": [
        "⚠️ Avoid infinite loops by updating the loop condition.\n",
        "\n",
        "✍️ **Try it**: Use a `for` loop to print squares of 1..5. Then rewrite with a `while` loop."
      ]
    },
    {
      "cell_type": "markdown",
      "id": "2ae495c7",
      "metadata": {
        "id": "2ae495c7"
      },
      "source": [
        "## 4) Organizing Data: Python Collections\n",
        "- **List**: ordered, mutable, allows duplicates `[]`\n",
        "- **Tuple**: ordered, immutable `()`\n",
        "- **Set**: unordered, unique elements `{}`\n",
        "- **Dict**: key–value mapping `{key: value}`\n"
      ]
    },
    {
      "cell_type": "code",
      "execution_count": null,
      "id": "c4da9975",
      "metadata": {
        "id": "c4da9975"
      },
      "outputs": [],
      "source": [
        "# Create one example of each\n",
        "my_list = [1, 2, \"three\"]\n",
        "my_tuple = (10, 20, \"thirty\")\n",
        "my_set = {1, 2, 2, 3}  # duplicates collapse to unique\n",
        "my_dict = {\"name\": \"Bob\", \"age\": 25}\n",
        "\n",
        "print(my_list)\n",
        "print(my_tuple)\n",
        "print(my_set)\n",
        "print(my_dict)\n"
      ]
    },
    {
      "cell_type": "markdown",
      "id": "534f792b",
      "metadata": {
        "id": "534f792b"
      },
      "source": [
        "## 5) Collections in Action\n",
        "Common operations for each collection type."
      ]
    },
    {
      "cell_type": "code",
      "execution_count": null,
      "id": "453d176d",
      "metadata": {
        "id": "453d176d"
      },
      "outputs": [],
      "source": [
        "# Lists: indexing and mutation\n",
        "my_list = [1, 2, \"three\"]\n",
        "my_list.append(4)\n",
        "print(\"list[0] ->\", my_list[0])\n",
        "print(\"list ->\", my_list)\n",
        "\n",
        "# Tuples: immutable\n",
        "my_tuple = (10, 20, \"thirty\")\n",
        "print(\"tuple[1] ->\", my_tuple[1])\n",
        "# my_tuple.append(40)  # Uncommenting raises AttributeError\n",
        "\n",
        "# Sets: uniqueness & membership\n",
        "my_set = {1, 2, 2, 3}\n",
        "my_set.add(4)\n",
        "print(\"set ->\", my_set)\n",
        "print(\"2 in set? ->\", 2 in my_set)\n",
        "\n",
        "# Dicts: key-based access\n",
        "my_dict = {\"name\": \"Bob\", \"age\": 25}\n",
        "print(\"name ->\", my_dict[\"name\"])\n",
        "my_dict[\"age\"] = 26\n",
        "print(\"dict ->\", my_dict)\n"
      ]
    },
    {
      "cell_type": "markdown",
      "id": "383a92fd",
      "metadata": {
        "id": "383a92fd"
      },
      "source": [
        "✍️ **Try it**: From a list `[1,1,2,3,3,3]`, build a set of unique values, then a dict `{value: count}` of frequencies."
      ]
    },
    {
      "cell_type": "markdown",
      "id": "a8f1b770",
      "metadata": {
        "id": "a8f1b770"
      },
      "source": [
        "## 6) Reusable Code: Functions\n",
        "Use functions to encapsulate logic and enable reuse. A function may take arguments and return a value.\n",
        "Docstrings (`\"\"\"...\"\"\"`) describe purpose and usage."
      ]
    },
    {
      "cell_type": "code",
      "execution_count": null,
      "id": "054aff70",
      "metadata": {
        "id": "054aff70"
      },
      "outputs": [],
      "source": [
        "def greet(name):\n",
        "    \"\"\"Return a friendly greeting for the given name.\"\"\"\n",
        "    return f\"Hello, {name}!\"\n",
        "\n",
        "message = greet(\"Graduates\")\n",
        "print(message)\n",
        "print(greet.__doc__)\n"
      ]
    },
    {
      "cell_type": "markdown",
      "id": "aadb7901",
      "metadata": {
        "id": "aadb7901"
      },
      "source": [
        "✍️ **Try it**: Write a function `area_of_circle(r)` that returns area using `3.14159 * r**2`."
      ]
    },
    {
      "cell_type": "markdown",
      "id": "b7e6bcdb",
      "metadata": {
        "id": "b7e6bcdb"
      },
      "source": [
        "## 7) Advanced Python: Concise & Functional\n",
        "- **List comprehensions** offer a concise way to transform/filter sequences.\n",
        "- **Lambda functions** are small anonymous functions, handy with `map`/`filter`/`sorted(key=...)`."
      ]
    },
    {
      "cell_type": "code",
      "execution_count": null,
      "id": "00ae9f9c",
      "metadata": {
        "id": "00ae9f9c"
      },
      "outputs": [],
      "source": [
        "# Comprehensions\n",
        "squares = [x**2 for x in range(5)]\n",
        "evens = [x for x in range(10) if x % 2 == 0]\n",
        "print(\"squares:\", squares)\n",
        "print(\"evens:\", evens)\n",
        "\n",
        "# Lambdas with map/filter\n",
        "numbers = [1, 2, 3, 4, 5]\n",
        "doubled = list(map(lambda x: x * 2, numbers))\n",
        "gt_three = list(filter(lambda x: x > 3, numbers))\n",
        "print(\"doubled:\", doubled)\n",
        "print(\">3:\", gt_three)\n"
      ]
    },
    {
      "cell_type": "markdown",
      "id": "674f20b6",
      "metadata": {
        "id": "674f20b6"
      },
      "source": [
        "✍️ **Try it**: From `words = ['apple','banana','pear']`, build list of `(word, len(word))` pairs using a comprehension."
      ]
    },
    {
      "cell_type": "markdown",
      "id": "a85a3806",
      "metadata": {
        "id": "a85a3806"
      },
      "source": [
        "## 8) Advanced Python: Structure & Reusability (OOP & Modules)\n",
        "Object-Oriented Programming models real-world entities with **classes** and **objects**.\n",
        "Modules are files that group related functions/classes; import them to reuse functionality."
      ]
    },
    {
      "cell_type": "code",
      "execution_count": null,
      "id": "a2c0d4a3",
      "metadata": {
        "id": "a2c0d4a3"
      },
      "outputs": [],
      "source": [
        "# OOP example\n",
        "class Dog:\n",
        "    def __init__(self, name):\n",
        "        self.name = name\n",
        "    def bark(self):\n",
        "        return f\"{self.name} says Woof!\"\n",
        "\n",
        "my_dog = Dog(\"Buddy\")\n",
        "print(my_dog.bark())\n"
      ]
    },
    {
      "cell_type": "code",
      "execution_count": null,
      "id": "93ce32f4",
      "metadata": {
        "id": "93ce32f4"
      },
      "outputs": [],
      "source": [
        "# Modules example (inline demo using types.ModuleType)\n",
        "import types\n",
        "\n",
        "# Create a simple module object at runtime (for demo only)\n",
        "my_module = types.ModuleType(\"my_module\")\n",
        "def add(a, b): return a + b\n",
        "my_module.add = add\n",
        "\n",
        "# 'Import' and use it (here we already have it in memory)\n",
        "result = my_module.add(5, 3)\n",
        "print(result)  # 8\n"
      ]
    },
    {
      "cell_type": "markdown",
      "id": "80f3ce22",
      "metadata": {
        "id": "80f3ce22"
      },
      "source": [
        "✍️ **Try it**: Extend `Dog` with a method `rename(new_name)` that updates `self.name`."
      ]
    },
    {
      "cell_type": "markdown",
      "id": "bff2710c",
      "metadata": {
        "id": "bff2710c"
      },
      "source": [
        "## 9) Graceful Exits: Error Handling (`try`/`except`/`finally`)\n",
        "Handle exceptions to keep programs robust and user-friendly."
      ]
    },
    {
      "cell_type": "code",
      "execution_count": null,
      "id": "9269afe7",
      "metadata": {
        "id": "9269afe7"
      },
      "outputs": [],
      "source": [
        "try:\n",
        "    result = 10 / 0\n",
        "except ZeroDivisionError:\n",
        "    print(\"Cannot divide by zero!\")\n",
        "finally:\n",
        "    print(\"Execution complete.\")\n"
      ]
    },
    {
      "cell_type": "markdown",
      "id": "f00bcffa",
      "metadata": {
        "id": "f00bcffa"
      },
      "source": [
        "**Patterns**:\n",
        "- Catch specific exceptions first (e.g., `ValueError`).\n",
        "- Use `else` for code that should run only if no exception occurs.\n",
        "- Use `finally` for cleanup.\n",
        "\n",
        "✍️ **Try it**: Convert `user_input='42'` to `int`. Catch `ValueError` and print a helpful message."
      ]
    },
    {
      "cell_type": "markdown",
      "id": "117e363b",
      "metadata": {
        "id": "117e363b"
      },
      "source": [
        "## 10) Mini‑Project: Friendly Birth‑Year Calculator\n",
        "Write a script that:\n",
        "1. Asks for a user's name and age (string input).\n",
        "2. Validates that age is a positive integer.\n",
        "3. Computes the birth year as `current_year - age`.\n",
        "4. Prints a personalized message.\n",
        "\n",
        "Below is a reference implementation; tweak prompts and validation as you like."
      ]
    },
    {
      "cell_type": "code",
      "execution_count": null,
      "id": "da5dd72b",
      "metadata": {
        "id": "da5dd72b"
      },
      "outputs": [],
      "source": [
        "from datetime import date\n",
        "\n",
        "def birth_year_greeter():\n",
        "    name = input(\"Your name: \").strip()\n",
        "    age_str = input(\"Your age (years): \").strip()\n",
        "    try:\n",
        "        age = int(age_str)\n",
        "        if age <= 0:\n",
        "            raise ValueError(\"Age must be positive.\")\n",
        "    except ValueError as e:\n",
        "        print(f\"Invalid age: {e}\")\n",
        "        return\n",
        "    year = date.today().year - age\n",
        "    print(f\"Hello, {name}! If you are {age}, your birth year is approximately {year}.\")\n",
        "\n",
        "\n",
        "# Uncomment to run interactively in a local environment\n",
        "# birth_year_greeter()\n",
        "print(\"Mini‑project ready. Uncomment the last line to run interactively.\")\n"
      ]
    },
    {
      "cell_type": "markdown",
      "id": "60d7e1ed",
      "metadata": {
        "id": "60d7e1ed"
      },
      "source": [
        "## Appendix: Quick Cheats\n",
        "- `help(obj)` shows help; `dir(obj)` lists attributes.\n",
        "- f-strings: `f\"{name} = {value:.2f}\"`.\n",
        "- Unpacking: `a, b = b, a` for swap.\n",
        "- Comprehensions for `list`, `set`, `dict`—e.g., `{x: x**2 for x in range(5)}`.\n",
        "- Context managers: `with open('file.txt') as f: data = f.read()`.\n"
      ]
    }
  ],
  "metadata": {
    "colab": {
      "provenance": []
    }
  },
  "nbformat": 4,
  "nbformat_minor": 5
}