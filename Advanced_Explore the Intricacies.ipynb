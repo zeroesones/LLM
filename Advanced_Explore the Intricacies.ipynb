{
 "cells": [
  {
   "cell_type": "markdown",
   "id": "1b063054",
   "metadata": {},
   "source": [
    "# 🐍 Advanced Python Survival Guide\n",
    "**Audience:** Experienced Python developers  \n",
    "**Duration:** ~2 hours (guided)  \n",
    "**Last generated:** 2025-09-11 13:55\n",
    "\n",
    "This notebook is a *textbook-like survival document*: read the markdown, run the code, and explore the nuances.\n"
   ]
  },
  {
   "cell_type": "markdown",
   "id": "61381410",
   "metadata": {},
   "source": [
    "## Agenda\n",
    "1. Subtleties of Core Data Structures (lists, sets, tuples, dictionaries)\n",
    "2. Python Internals & “Oaths” (Zen, identity vs equality, mutability traps, GC)\n",
    "3. Classic & Advanced Data Structures (BFS, DFS, Heap / Dijkstra)\n",
    "4. Advanced Usage Patterns (itertools, generators/coroutines, context managers, memoization, typing)\n",
    "5. Wrap-up + Further reading\n"
   ]
  },
  {
   "cell_type": "markdown",
   "id": "b625bbcd",
   "metadata": {},
   "source": [
    "## 1. Subtleties of Core Data Structures\n",
    "\n",
    "### 1.1 Lists – dynamic arrays, memory behavior, and copying\n",
    "Python lists are dynamic arrays. Appending is **amortized O(1)** thanks to overallocation.\n",
    "We’ll also inspect **shallow vs deep copy**, and list comprehensions vs generator expressions.\n"
   ]
  },
  {
   "cell_type": "code",
   "execution_count": null,
   "id": "3dc65476",
   "metadata": {},
   "outputs": [],
   "source": [
    "import sys\n",
    "\n",
    "nums = []\n",
    "sizes = []\n",
    "for i in range(16):\n",
    "    nums.append(i)\n",
    "    sizes.append(sys.getsizeof(nums))\n",
    "\n",
    "list(zip(range(16), sizes))[:10]  # show first 10 (index, size in bytes)\n"
   ]
  },
  {
   "cell_type": "code",
   "execution_count": null,
   "id": "5276a253",
   "metadata": {},
   "outputs": [],
   "source": [
    "import copy\n",
    "\n",
    "a = [[1,2], [3,4]]\n",
    "b = a[:]                 # shallow copy\n",
    "c = copy.deepcopy(a)     # deep copy\n",
    "\n",
    "a[0][0] = 99\n",
    "print(\"a:\", a)           # a changed\n",
    "print(\"b (shallow):\", b) # b reflects inner mutation\n",
    "print(\"c (deep):\", c)    # c unaffected\n"
   ]
  },
  {
   "cell_type": "code",
   "execution_count": null,
   "id": "7f68af46",
   "metadata": {},
   "outputs": [],
   "source": [
    "# List comprehension vs generator expression (memory implications)\n",
    "squares_list = [x*x for x in range(10_000)]\n",
    "squares_gen = (x*x for x in range(10_000))\n",
    "\n",
    "import sys\n",
    "print(\"List size (bytes):\", sys.getsizeof(squares_list))\n",
    "print(\"Generator size (bytes):\", sys.getsizeof(squares_gen))\n",
    "\n",
    "# Consume a little of the generator to show it works lazily\n",
    "sum(next(squares_gen) for _ in range(5))  # sum of first 5 squares\n"
   ]
  },
  {
   "cell_type": "markdown",
   "id": "22c282a2",
   "metadata": {},
   "source": [
    "### 1.2 Sets – hashing, unhashable elements, and deduplication\n",
    "Sets are hash tables with average O(1) membership tests. Elements must be **hashable**.\n"
   ]
  },
  {
   "cell_type": "code",
   "execution_count": null,
   "id": "397a83fe",
   "metadata": {},
   "outputs": [],
   "source": [
    "s = set()\n",
    "try:\n",
    "    s.add([1,2])   # lists are unhashable (mutable)\n",
    "except TypeError as e:\n",
    "    print(\"Expected TypeError for list:\", e)\n",
    "\n",
    "s.add((1,2))       # tuples are hashable (when they contain only hashable items)\n",
    "print(\"Set contents:\", s)\n",
    "\n",
    "emails = [\"a@x.com\", \"b@y.com\", \"a@x.com\"]\n",
    "unique = set(emails)\n",
    "print(\"Unique emails:\", unique)\n"
   ]
  },
  {
   "cell_type": "markdown",
   "id": "a61376f1",
   "metadata": {},
   "source": [
    "### 1.3 Tuples – immutability and containing mutables\n",
    "Tuples are immutable, but they can **contain** mutable objects (which can be mutated).\n",
    "Also compare `namedtuple` vs `dataclass` for lightweight records.\n"
   ]
  },
  {
   "cell_type": "code",
   "execution_count": null,
   "id": "6c9b9748",
   "metadata": {},
   "outputs": [],
   "source": [
    "from collections import namedtuple\n",
    "from dataclasses import dataclass\n",
    "\n",
    "t = (1, [2,3])\n",
    "t[1].append(4)\n",
    "print(\"Tuple containing a list (mutated list):\", t)\n",
    "\n",
    "Point = namedtuple('Point', 'x y')\n",
    "p1 = Point(10, 20)\n",
    "\n",
    "@dataclass\n",
    "class PointDC:\n",
    "    x: int\n",
    "    y: int\n",
    "p2 = PointDC(10, 20)\n",
    "\n",
    "print(\"namedtuple:\", p1, p1.x, p1.y)\n",
    "print(\"dataclass :\", p2, p2.x, p2.y)\n"
   ]
  },
  {
   "cell_type": "markdown",
   "id": "4c59e988",
   "metadata": {},
   "source": [
    "### 1.4 Dictionaries – ordered insertion, dynamic views, and collections helpers\n",
    "Dictionaries preserve insertion order (3.7+). Views are **dynamic** and reflect updates.\n",
    "`collections` offers `defaultdict`, `Counter`, and `ChainMap` for powerful patterns.\n"
   ]
  },
  {
   "cell_type": "code",
   "execution_count": null,
   "id": "e72bab3d",
   "metadata": {},
   "outputs": [],
   "source": [
    "from collections import defaultdict, Counter, ChainMap\n",
    "\n",
    "d = {\"a\": 1, \"b\": 2}\n",
    "keys_view = d.keys()\n",
    "d[\"c\"] = 3\n",
    "print(\"Keys view (dynamic):\", list(keys_view))  # includes 'c'\n",
    "\n",
    "dd = defaultdict(int)\n",
    "dd[\"x\"] += 1\n",
    "print(\"defaultdict with int factory:\", dict(dd))\n",
    "\n",
    "c = Counter(\"abracadabra\")\n",
    "print(\"Counter most common 2:\", c.most_common(2))\n",
    "\n",
    "# ChainMap example: overlay config layers\n",
    "defaults = {\"timeout\": 10, \"retries\": 2}\n",
    "env = {\"timeout\": 20}\n",
    "cmd = {\"retries\": 5}\n",
    "cm = ChainMap(cmd, env, defaults)\n",
    "print(\"ChainMap merged config:\", dict(cm))\n"
   ]
  },
  {
   "cell_type": "markdown",
   "id": "c0add07f",
   "metadata": {},
   "source": [
    "## 2. Python Internals & “Oaths”\n",
    "\n",
    "- **Zen of Python**: guiding principles for writing idiomatic, readable code.\n",
    "- **Identity vs Equality**: `is` compares object identity; `==` compares values.\n",
    "- **Default mutable argument trap** and its canonical fix.\n",
    "- **Reference counting & GC basics**.\n"
   ]
  },
  {
   "cell_type": "code",
   "execution_count": null,
   "id": "a738de87",
   "metadata": {},
   "outputs": [],
   "source": [
    "import this  # prints Zen of Python"
   ]
  },
  {
   "cell_type": "code",
   "execution_count": null,
   "id": "dfd771d1",
   "metadata": {},
   "outputs": [],
   "source": [
    "a = 1000\n",
    "b = 1000\n",
    "print(\"a is b:\", a is b)   # likely False\n",
    "print(\"a == b:\", a == b)   # True\n"
   ]
  },
  {
   "cell_type": "code",
   "execution_count": null,
   "id": "11830c48",
   "metadata": {},
   "outputs": [],
   "source": [
    "def add_item(item, bucket=[]):  # BAD: default is shared across calls\n",
    "    bucket.append(item)\n",
    "    return bucket\n",
    "\n",
    "print(add_item(1))  # [1]\n",
    "print(add_item(2))  # [1, 2]  # surprising!\n"
   ]
  },
  {
   "cell_type": "code",
   "execution_count": null,
   "id": "0bd0c7b4",
   "metadata": {},
   "outputs": [],
   "source": [
    "def add_item(item, bucket=None):  # GOOD: create new list when None\n",
    "    if bucket is None:\n",
    "        bucket = []\n",
    "    bucket.append(item)\n",
    "    return bucket\n",
    "\n",
    "print(add_item(1))\n",
    "print(add_item(2))\n"
   ]
  },
  {
   "cell_type": "code",
   "execution_count": null,
   "id": "81b2211a",
   "metadata": {},
   "outputs": [],
   "source": [
    "import sys, gc\n",
    "\n",
    "x = []\n",
    "print(\"Reference count for x (approx):\", sys.getrefcount(x))\n",
    "print(\"GC thresholds:\", gc.get_threshold())\n"
   ]
  },
  {
   "cell_type": "markdown",
   "id": "a2cb6f94",
   "metadata": {},
   "source": [
    "## 3. Classic & Advanced Data Structures\n",
    "\n",
    "We’ll implement **BFS** (queue), **DFS** (recursion/stack), and an **advanced priority-queue** example using `heapq` for **Dijkstra**.\n"
   ]
  },
  {
   "cell_type": "code",
   "execution_count": null,
   "id": "85b9c7c1",
   "metadata": {},
   "outputs": [],
   "source": [
    "from collections import deque\n",
    "\n",
    "def bfs(graph, start):\n",
    "    visited = set([start])\n",
    "    q = deque([start])\n",
    "    order = []\n",
    "    while q:\n",
    "        node = q.popleft()\n",
    "        order.append(node)\n",
    "        for nei in graph.get(node, []):\n",
    "            if nei not in visited:\n",
    "                visited.add(nei)\n",
    "                q.append(nei)\n",
    "    return order\n",
    "\n",
    "graph_unweighted = {\n",
    "    'A': {'B', 'C'},\n",
    "    'B': {'A', 'D', 'E'},\n",
    "    'C': {'A', 'F'},\n",
    "    'D': {'B'},\n",
    "    'E': {'B', 'F'},\n",
    "    'F': {'C', 'E'}\n",
    "}\n",
    "\n",
    "print(\"BFS order from A:\", bfs(graph_unweighted, 'A'))\n"
   ]
  },
  {
   "cell_type": "code",
   "execution_count": null,
   "id": "3d09e922",
   "metadata": {},
   "outputs": [],
   "source": [
    "def dfs_recursive(graph, node, visited=None, order=None):\n",
    "    if visited is None:\n",
    "        visited, order = set(), []\n",
    "    visited.add(node)\n",
    "    order.append(node)\n",
    "    for nei in graph.get(node, []):\n",
    "        if nei not in visited:\n",
    "            dfs_recursive(graph, nei, visited, order)\n",
    "    return order\n",
    "\n",
    "print(\"DFS recursive from A:\", dfs_recursive(graph_unweighted, 'A'))\n"
   ]
  },
  {
   "cell_type": "code",
   "execution_count": null,
   "id": "30e77f8a",
   "metadata": {},
   "outputs": [],
   "source": [
    "import heapq\n",
    "\n",
    "def dijkstra(graph_w, start):\n",
    "    # graph_w: dict[node] -> list[(neighbor, weight)]\n",
    "    dist = {n: float('inf') for n in graph_w}\n",
    "    dist[start] = 0.0\n",
    "    pq = [(0.0, start)]\n",
    "    while pq:\n",
    "        d, u = heapq.heappop(pq)\n",
    "        if d > dist[u]:  # stale entry\n",
    "            continue\n",
    "        for v, w in graph_w[u]:\n",
    "            nd = d + w\n",
    "            if nd < dist[v]:\n",
    "                dist[v] = nd\n",
    "                heapq.heappush(pq, (nd, v))\n",
    "    return dist\n",
    "\n",
    "graph_weighted = {\n",
    "    'A': [('B', 2), ('C', 5)],\n",
    "    'B': [('A', 2), ('D', 1), ('E', 3)],\n",
    "    'C': [('A', 5), ('F', 2)],\n",
    "    'D': [('B', 1)],\n",
    "    'E': [('B', 3), ('F', 1)],\n",
    "    'F': [('C', 2), ('E', 1)]\n",
    "}\n",
    "\n",
    "print(\"Dijkstra distances from A:\", dijkstra(graph_weighted, 'A'))\n"
   ]
  },
  {
   "cell_type": "markdown",
   "id": "4113d549",
   "metadata": {},
   "source": [
    "## 4. Advanced Usage Patterns\n",
    "\n",
    "### 4.1 `itertools` power tools\n",
    "- `permutations`, `combinations`, `accumulate`, `groupby`, `product`.\n"
   ]
  },
  {
   "cell_type": "code",
   "execution_count": null,
   "id": "775c5ce7",
   "metadata": {},
   "outputs": [],
   "source": [
    "from itertools import permutations, combinations, accumulate, groupby, product\n",
    "\n",
    "print(\"Permutations of [1,2,3] choose 2:\", list(permutations([1,2,3], 2)))\n",
    "print(\"Combinations of [1,2,3] choose 2:\", list(combinations([1,2,3], 2)))\n",
    "print(\"Accumulate [1,2,3,4]:\", list(accumulate([1,2,3,4])))\n",
    "\n",
    "data = sorted([\"apple\", \"apricot\", \"banana\", \"blueberry\", \"cherry\"], key=lambda x: x[0])\n",
    "grouped = {k:list(g) for k,g in groupby(data, key=lambda x: x[0])}\n",
    "print(\"Groupby by first letter:\", grouped)\n",
    "\n",
    "print(\"Product of [0,1] x ['a','b']:\", list(product([0,1], ['a','b'])))\n"
   ]
  },
  {
   "cell_type": "markdown",
   "id": "2d4602de",
   "metadata": {},
   "source": [
    "### 4.2 Generators & coroutines\n",
    "Generators are lazy: they yield values one by one. Use `yield from` to delegate.\n"
   ]
  },
  {
   "cell_type": "code",
   "execution_count": null,
   "id": "1cfab761",
   "metadata": {},
   "outputs": [],
   "source": [
    "def count_up_to(n):\n",
    "    i = 1\n",
    "    while i <= n:\n",
    "        yield i\n",
    "        i += 1\n",
    "\n",
    "def first_n_squares(n):\n",
    "    for i in range(1, n+1):\n",
    "        yield i*i\n",
    "\n",
    "def squares_via_delegate(n):\n",
    "    # delegate to another generator with 'yield from'\n",
    "    yield from first_n_squares(n)\n",
    "\n",
    "print(\"First 5 via generator:\", list(count_up_to(5)))\n",
    "print(\"Squares via delegation:\", list(squares_via_delegate(5)))\n"
   ]
  },
  {
   "cell_type": "markdown",
   "id": "08f37e81",
   "metadata": {},
   "source": [
    "### 4.3 Context managers\n",
    "Use `with` to guarantee cleanup. Write your own with `contextlib`.\n"
   ]
  },
  {
   "cell_type": "code",
   "execution_count": null,
   "id": "1597bcde",
   "metadata": {},
   "outputs": [],
   "source": [
    "from contextlib import contextmanager\n",
    "\n",
    "@contextmanager\n",
    "def open_file(name, mode):\n",
    "    f = open(name, mode, encoding='utf-8')\n",
    "    try:\n",
    "        yield f\n",
    "    finally:\n",
    "        f.close()\n",
    "\n",
    "with open_file(\"demo_temp.txt\", \"w\") as f:\n",
    "    _ = f.write(\"Hello, context manager!\")\n",
    "with open_file(\"demo_temp.txt\", \"r\") as f:\n",
    "    print(\"File says:\", f.read())\n"
   ]
  },
  {
   "cell_type": "markdown",
   "id": "eb81aa22",
   "metadata": {},
   "source": [
    "### 4.4 Memoization & typing\n",
    "`functools.lru_cache` adds transparent caching to pure functions.  \n",
    "Type hints help document and validate contracts (use `mypy` separately in your environment).\n"
   ]
  },
  {
   "cell_type": "code",
   "execution_count": null,
   "id": "b46d36f5",
   "metadata": {},
   "outputs": [],
   "source": [
    "from functools import lru_cache\n",
    "from typing import List\n",
    "\n",
    "@lru_cache(maxsize=None)\n",
    "def fib(n: int) -> int:\n",
    "    if n < 2:\n",
    "        return n\n",
    "    return fib(n-1) + fib(n-2)\n",
    "\n",
    "def average(nums: List[int]) -> float:\n",
    "    return sum(nums) / len(nums) if nums else float('nan')\n",
    "\n",
    "print(\"fib(10):\", fib(10))\n",
    "print(\"average([1,2,3,4]):\", average([1,2,3,4]))\n"
   ]
  },
  {
   "cell_type": "markdown",
   "id": "75bb276f",
   "metadata": {},
   "source": [
    "## 5. Wrap-up\n",
    "You’ve reviewed:\n",
    "- Internals of key containers (list, set, tuple, dict) and their performance trade-offs.\n",
    "- Python “oaths”: Zen, identity vs equality, mutability pitfalls, and GC basics.\n",
    "- BFS/DFS plus Dijkstra using `heapq`.\n",
    "- Advanced patterns with `itertools`, generators, context managers, memoization, and typing.\n",
    "\n",
    "**Suggested follow-ups:**\n",
    "- Explore `collections` (`deque`, `UserDict`, `UserList`), `concurrent.futures`, `asyncio`.\n",
    "- Try profiling with `timeit`, `cProfile`, `line_profiler` to guide optimizations.\n"
   ]
  }
 ],
 "metadata": {},
 "nbformat": 4,
 "nbformat_minor": 5
}
